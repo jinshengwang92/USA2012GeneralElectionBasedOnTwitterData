{
 "cells": [
  {
   "cell_type": "code",
   "execution_count": 38,
   "metadata": {
    "collapsed": false
   },
   "outputs": [],
   "source": [
    "from StringIO import StringIO\n",
    "from zipfile import ZipFile\n",
    "from urllib import urlopen\n",
    "import gzip\n",
    "\n",
    "# a file-like object\n",
    "url = urlopen(\"https://ckannet-storage.commondatastorage.googleapis.com/2015-07-09T02:10:43.036Z/cache-0-json.gz\")"
   ]
  },
  {
   "cell_type": "code",
   "execution_count": 39,
   "metadata": {
    "collapsed": false
   },
   "outputs": [
    {
     "name": "stdout",
     "output_type": "stream",
     "text": [
      "{\"text\":\"Obama vies for health care edge in Florida - http:\\/\\/t.co\\/OcISvreb http:\\/\\/t.co\\/FsJ7xgGW #florida\",\"in_reply_to_user_id\":null,\"truncated\":false,\"id_str\":\"244907511377965056\",\"retweeted\":false,\"in_reply_to_status_id_str\":null,\"source\":\"<a href=\\\"http:\\/\\/twitterfeed.com\\\" rel=\\\"nofollow\\\">twitterfeed<\\/a>\",\"possibly_sensitive\":false,\"entities\":{\"hashtags\":[{\"text\":\"florida\",\"indices\":[87,95]}],\"urls\":[{\"indices\":[45,65],\"display_url\":\"STLtoday.com\",\"expanded_url\":\"http:\\/\\/STLtoday.com\",\"url\":\"http:\\/\\/t.co\\/OcISvreb\"},{\"indices\":[66,86],\"display_url\":\"bit.ly\\/Tzhmly\",\"expanded_url\":\"http:\\/\\/bit.ly\\/Tzhmly\",\"url\":\"http:\\/\\/t.co\\/FsJ7xgGW\"}],\"user_mentions\":[]},\"in_reply_to_screen_name\":null,\"in_reply_to_status_id\":null,\"in_reply_to_user_id_str\":null,\"place\":null,\"contributors\":null,\"coordinates\":null,\"created_at\":\"Sun Sep 09 21:17:55 +0000 2012\",\"favorited\":false,\"possibly_sensitive_editable\":true,\"user\":{\"follow_request_sent\":null,\"contributors_enabled\":false,\"location\":\"\",\"profile_sidebar_border_color\":\"C0DEED\",\"profile_image_url_https\":\"https:\\/\\/si0.twimg.com\\/profile_images\\/1166515929\\/florida_normal.jpg\",\"id_str\":\"215440345\",\"listed_count\":116,\"verified\":false,\"show_all_inline_media\":false,\"profile_use_background_image\":true,\"profile_image_url\":\"http:\\/\\/a0.twimg.com\\/profile_images\\/1166515929\\/florida_normal.jpg\",\"description\":\"\",\"default_profile\":true,\"statuses_count\":78777,\"profile_text_color\":\"333333\",\"followers_count\":3214,\"lang\":\"en\",\"profile_background_image_url\":\"http:\\/\\/a0.twimg.com\\/images\\/themes\\/theme1\\/bg.png\",\"time_zone\":\"Central Time (US & Canada)\",\"screen_name\":\"FLnewswire\",\"geo_enabled\":false,\"profile_link_color\":\"0084B4\",\"profile_background_image_url_https\":\"https:\\/\\/si0.twimg.com\\/images\\/themes\\/theme1\\/bg.png\",\"created_at\":\"Sat Nov 13 23:19:24 +0000 2010\",\"protected\":false,\"default_profile_image\":false,\"following\":null,\"notifications\":null,\"friends_count\":2258,\"profile_background_color\":\"C0DEED\",\"url\":null,\"name\":\"Florida News\",\"is_translator\":false,\"profile_background_tile\":false,\"favourites_count\":0,\"id\":215440345,\"utc_offset\":-21600,\"profile_sidebar_fill_color\":\"DDEEF6\"},\"retweet_count\":0,\"id\":244907511377965056,\"geo\":null}\n",
      "\n",
      "{\"text\":\"Just crossed the border back to Canada! Had a great time on the State side this weekend #USA #cottage #awesome \\ue50c\",\"in_reply_to_user_id\":null,\"truncated\":false,\"id_str\":\"244907511310843906\",\"retweeted\":false,\"in_reply_to_status_id_str\":null,\"source\":\"<a href=\\\"http:\\/\\/twitter.com\\/download\\/iphone\\\" rel=\\\"nofollow\\\">Twitter for iPhone<\\/a>\",\"entities\":{\"hashtags\":[{\"text\":\"USA\",\"indices\":[88,92]},{\"text\":\"cottage\",\"indices\":[93,101]},{\"text\":\"awesome\",\"indices\":[102,110]}],\"urls\":[],\"user_mentions\":[]},\"in_reply_to_screen_name\":null,\"in_reply_to_status_id\":null,\"in_reply_to_user_id_str\":null,\"place\":null,\"contributors\":null,\"coordinates\":null,\"created_at\":\"Sun Sep 09 21:17:55 +0000 2012\",\"favorited\":false,\"user\":{\"follow_request_sent\":null,\"contributors_enabled\":false,\"location\":\"Netherlands\",\"profile_sidebar_border_color\":\"C0DEED\",\"profile_image_url_https\":\"https:\\/\\/si0.twimg.com\\/profile_images\\/2309994816\\/image_normal.jpg\",\"id_str\":\"487384621\",\"listed_count\":0,\"verified\":false,\"show_all_inline_media\":false,\"profile_use_background_image\":true,\"profile_image_url\":\"http:\\/\\/a0.twimg.com\\/profile_images\\/2309994816\\/image_normal.jpg\",\"description\":\"\",\"default_profile\":true,\"statuses_count\":373,\"profile_text_color\":\"333333\",\"followers_count\":94,\"lang\":\"en\",\"profile_background_image_url\":\"http:\\/\\/a0.twimg.com\\/images\\/themes\\/theme1\\/bg.png\",\"time_zone\":\"Amsterdam\",\"screen_name\":\"JessicaRutley\",\"geo_enabled\":true,\"profile_link_color\":\"0084B4\",\"profile_background_image_url_https\":\"https:\\/\\/si0.twimg.com\\/images\\/themes\\/theme1\\/bg.png\",\"created_at\":\"Thu Feb 09 09:30:06 +0000 2012\",\"protected\":false,\"default_profile_image\":false,\"following\":null,\"notifications\":null,\"friends_count\":127,\"profile_background_color\":\"C0DEED\",\"url\":null,\"name\":\"Jessica Rutley\",\"is_translator\":false,\"profile_background_tile\":false,\"favourites_count\":21,\"id\":487384621,\"utc_offset\":3600,\"profile_sidebar_fill_color\":\"DDEEF6\"},\"retweet_count\":0,\"id\":244907511310843906,\"geo\":null}\n",
      "\n",
      "{\"text\":\"Obama Blasts Romney's Medicare Plan in Appeal to Florida Seniors - ABC News (blog) http:\\/\\/t.co\\/CyktT3cx #florida\",\"in_reply_to_user_id\":null,\"truncated\":false,\"id_str\":\"244907512317476864\",\"retweeted\":false,\"in_reply_to_status_id_str\":null,\"source\":\"<a href=\\\"http:\\/\\/twitterfeed.com\\\" rel=\\\"nofollow\\\">twitterfeed<\\/a>\",\"possibly_sensitive\":false,\"entities\":{\"hashtags\":[{\"text\":\"florida\",\"indices\":[104,112]}],\"urls\":[{\"indices\":[83,103],\"display_url\":\"bit.ly\\/TzhmlB\",\"expanded_url\":\"http:\\/\\/bit.ly\\/TzhmlB\",\"url\":\"http:\\/\\/t.co\\/CyktT3cx\"}],\"user_mentions\":[]},\"in_reply_to_screen_name\":null,\"in_reply_to_status_id\":null,\"in_reply_to_user_id_str\":null,\"place\":null,\"contributors\":null,\"coordinates\":null,\"created_at\":\"Sun Sep 09 21:17:55 +0000 2012\",\"favorited\":false,\"possibly_sensitive_editable\":true,\"user\":{\"follow_request_sent\":null,\"contributors_enabled\":false,\"location\":\"\",\"profile_sidebar_border_color\":\"C0DEED\",\"profile_image_url_https\":\"https:\\/\\/si0.twimg.com\\/profile_images\\/1166515929\\/florida_normal.jpg\",\"id_str\":\"215440345\",\"listed_count\":116,\"verified\":false,\"show_all_inline_media\":false,\"profile_use_background_image\":true,\"profile_image_url\":\"http:\\/\\/a0.twimg.com\\/profile_images\\/1166515929\\/florida_normal.jpg\",\"description\":\"\",\"default_profile\":true,\"statuses_count\":78778,\"profile_text_color\":\"333333\",\"followers_count\":3214,\"lang\":\"en\",\"profile_background_image_url\":\"http:\\/\\/a0.twimg.com\\/images\\/themes\\/theme1\\/bg.png\",\"time_zone\":\"Central Time (US & Canada)\",\"screen_name\":\"FLnewswire\",\"geo_enabled\":false,\"profile_link_color\":\"0084B4\",\"profile_background_image_url_https\":\"https:\\/\\/si0.twimg.com\\/images\\/themes\\/theme1\\/bg.png\",\"created_at\":\"Sat Nov 13 23:19:24 +0000 2010\",\"protected\":false,\"default_profile_image\":false,\"following\":null,\"notifications\":null,\"friends_count\":2258,\"profile_background_color\":\"C0DEED\",\"url\":null,\"name\":\"Florida News\",\"is_translator\":false,\"profile_background_tile\":false,\"favourites_count\":0,\"id\":215440345,\"utc_offset\":-21600,\"profile_sidebar_fill_color\":\"DDEEF6\"},\"retweet_count\":0,\"id\":244907512317476864,\"geo\":null}\n",
      "\n",
      "{\"text\":\"Suddenly the President was German Suplex'd into a grandma. http:\\/\\/t.co\\/2ZGGZgYs\",\"in_reply_to_user_id\":null,\"truncated\":false,\"id_str\":\"244907512887914498\",\"retweeted\":false,\"in_reply_to_status_id_str\":null,\"source\":\"<a href=\\\"http:\\/\\/www.facebook.com\\/twitter\\\" rel=\\\"nofollow\\\">Facebook<\\/a>\",\"possibly_sensitive\":false,\"entities\":{\"hashtags\":[],\"urls\":[{\"indices\":[59,79],\"display_url\":\"fb.me\\/1XowDzpCh\",\"expanded_url\":\"http:\\/\\/fb.me\\/1XowDzpCh\",\"url\":\"http:\\/\\/t.co\\/2ZGGZgYs\"}],\"user_mentions\":[]},\"in_reply_to_screen_name\":null,\"in_reply_to_status_id\":null,\"in_reply_to_user_id_str\":null,\"place\":null,\"contributors\":null,\"coordinates\":null,\"created_at\":\"Sun Sep 09 21:17:55 +0000 2012\",\"favorited\":false,\"possibly_sensitive_editable\":true,\"user\":{\"follow_request_sent\":null,\"contributors_enabled\":false,\"location\":\"Beaverton, OR\",\"profile_sidebar_border_color\":\"C0DEED\",\"profile_image_url_https\":\"https:\\/\\/si0.twimg.com\\/profile_images\\/618403831\\/beaverton_tfaw1_a_normal.jpg\",\"id_str\":\"103036338\",\"listed_count\":18,\"verified\":false,\"show_all_inline_media\":false,\"profile_use_background_image\":false,\"profile_image_url\":\"http:\\/\\/a0.twimg.com\\/profile_images\\/618403831\\/beaverton_tfaw1_a_normal.jpg\",\"description\":\"Simply the best place to buy comics, toys, collectibles, and more in Beaverton.\",\"default_profile\":false,\"statuses_count\":2130,\"profile_text_color\":\"333333\",\"followers_count\":267,\"lang\":\"en\",\"profile_background_image_url\":\"http:\\/\\/a0.twimg.com\\/profile_background_images\\/373923063\\/ggimages.jpg\",\"time_zone\":\"Pacific Time (US & Canada)\",\"screen_name\":\"beavertonTFAW\",\"geo_enabled\":true,\"profile_link_color\":\"0084B4\",\"profile_background_image_url_https\":\"https:\\/\\/si0.twimg.com\\/profile_background_images\\/373923063\\/ggimages.jpg\",\"created_at\":\"Fri Jan 08 17:17:11 +0000 2010\",\"protected\":false,\"default_profile_image\":false,\"following\":null,\"notifications\":null,\"friends_count\":152,\"profile_background_color\":\"C0DEED\",\"url\":\"http:\\/\\/www.tfaw.com\",\"name\":\"TFAW Beaverton\",\"is_translator\":false,\"profile_background_tile\":true,\"favourites_count\":2,\"id\":103036338,\"utc_offset\":-28800,\"profile_sidebar_fill_color\":\"DDEEF6\"},\"retweet_count\":0,\"id\":244907512887914498,\"geo\":null}\n",
      "\n",
      "{\"text\":\"Obama maintains post-convention lead over Romney - http:\\/\\/t.co\\/XLdRbGPx via http:\\/\\/t.co\\/sjkJdXlc\",\"in_reply_to_user_id\":null,\"truncated\":false,\"id_str\":\"244907512124538880\",\"retweeted\":false,\"in_reply_to_status_id_str\":null,\"source\":\"<a href=\\\"http:\\/\\/twitter.com\\/tweetbutton\\\" rel=\\\"nofollow\\\">Tweet Button<\\/a>\",\"possibly_sensitive\":false,\"entities\":{\"hashtags\":[],\"urls\":[{\"indices\":[51,71],\"display_url\":\"goo.gl\\/news\\/1uV3\",\"expanded_url\":\"http:\\/\\/goo.gl\\/news\\/1uV3\",\"url\":\"http:\\/\\/t.co\\/XLdRbGPx\"},{\"indices\":[76,96],\"display_url\":\"news.google.com\",\"expanded_url\":\"http:\\/\\/news.google.com\",\"url\":\"http:\\/\\/t.co\\/sjkJdXlc\"}],\"user_mentions\":[]},\"in_reply_to_screen_name\":null,\"in_reply_to_status_id\":null,\"in_reply_to_user_id_str\":null,\"place\":null,\"contributors\":null,\"coordinates\":null,\"created_at\":\"Sun Sep 09 21:17:55 +0000 2012\",\"favorited\":false,\"possibly_sensitive_editable\":true,\"user\":{\"follow_request_sent\":null,\"contributors_enabled\":false,\"location\":\"\",\"profile_sidebar_border_color\":\"C0DEED\",\"profile_image_url_https\":\"https:\\/\\/si0.twimg.com\\/sticky\\/default_profile_images\\/default_profile_6_normal.png\",\"id_str\":\"568596412\",\"listed_count\":0,\"verified\":false,\"show_all_inline_media\":false,\"profile_use_background_image\":true,\"profile_image_url\":\"http:\\/\\/a0.twimg.com\\/sticky\\/default_profile_images\\/default_profile_6_normal.png\",\"description\":\"\",\"default_profile\":true,\"statuses_count\":443,\"profile_text_color\":\"333333\",\"followers_count\":10,\"lang\":\"en\",\"profile_background_image_url\":\"http:\\/\\/a0.twimg.com\\/images\\/themes\\/theme1\\/bg.png\",\"time_zone\":null,\"screen_name\":\"100Royd\",\"geo_enabled\":false,\"profile_link_color\":\"0084B4\",\"profile_background_image_url_https\":\"https:\\/\\/si0.twimg.com\\/images\\/themes\\/theme1\\/bg.png\",\"created_at\":\"Tue May 01 22:36:11 +0000 2012\",\"protected\":false,\"default_profile_image\":true,\"following\":null,\"notifications\":null,\"friends_count\":77,\"profile_background_color\":\"C0DEED\",\"url\":null,\"name\":\"Leroy Davis\",\"is_translator\":false,\"profile_background_tile\":false,\"favourites_count\":0,\"id\":568596412,\"utc_offset\":null,\"profile_sidebar_fill_color\":\"DDEEF6\"},\"retweet_count\":0,\"id\":244907512124538880,\"geo\":null}\n",
      "\n",
      "{\"text\":\"Bear hugs and Medicare for Obama in Florida - Orlando Sentinel http:\\/\\/t.co\\/lHsa9SKL #florida\",\"in_reply_to_user_id\":null,\"truncated\":false,\"id_str\":\"244907513085054977\",\"retweeted\":false,\"in_reply_to_status_id_str\":null,\"source\":\"<a href=\\\"http:\\/\\/twitterfeed.com\\\" rel=\\\"nofollow\\\">twitterfeed<\\/a>\",\"possibly_sensitive\":false,\"entities\":{\"hashtags\":[{\"text\":\"florida\",\"indices\":[84,92]}],\"urls\":[{\"indices\":[63,83],\"display_url\":\"bit.ly\\/P8Bs07\",\"expanded_url\":\"http:\\/\\/bit.ly\\/P8Bs07\",\"url\":\"http:\\/\\/t.co\\/lHsa9SKL\"}],\"user_mentions\":[]},\"in_reply_to_screen_name\":null,\"in_reply_to_status_id\":null,\"in_reply_to_user_id_str\":null,\"place\":null,\"contributors\":null,\"coordinates\":null,\"created_at\":\"Sun Sep 09 21:17:55 +0000 2012\",\"favorited\":false,\"possibly_sensitive_editable\":true,\"user\":{\"follow_request_sent\":null,\"contributors_enabled\":false,\"location\":\"\",\"profile_sidebar_border_color\":\"C0DEED\",\"profile_image_url_https\":\"https:\\/\\/si0.twimg.com\\/profile_images\\/1166515929\\/florida_normal.jpg\",\"id_str\":\"215440345\",\"listed_count\":116,\"verified\":false,\"show_all_inline_media\":false,\"profile_use_background_image\":true,\"profile_image_url\":\"http:\\/\\/a0.twimg.com\\/profile_images\\/1166515929\\/florida_normal.jpg\",\"description\":\"\",\"default_profile\":true,\"statuses_count\":78779,\"profile_text_color\":\"333333\",\"followers_count\":3214,\"lang\":\"en\",\"profile_background_image_url\":\"http:\\/\\/a0.twimg.com\\/images\\/themes\\/theme1\\/bg.png\",\"time_zone\":\"Central Time (US & Canada)\",\"screen_name\":\"FLnewswire\",\"geo_enabled\":false,\"profile_link_color\":\"0084B4\",\"profile_background_image_url_https\":\"https:\\/\\/si0.twimg.com\\/images\\/themes\\/theme1\\/bg.png\",\"created_at\":\"Sat Nov 13 23:19:24 +0000 2010\",\"protected\":false,\"default_profile_image\":false,\"following\":null,\"notifications\":null,\"friends_count\":2258,\"profile_background_color\":\"C0DEED\",\"url\":null,\"name\":\"Florida News\",\"is_translator\":false,\"profile_background_tile\":false,\"favourites_count\":0,\"id\":215440345,\"utc_offset\":-21600,\"profile_sidebar_fill_color\":\"DDEEF6\"},\"retweet_count\":0,\"id\":244907513085054977,\"geo\":null}\n",
      "\n",
      "{\"text\":\"Ryan Blames Obama for Higher Pump Prices - http:\\/\\/t.co\\/Z5jtBJco http:\\/\\/t.co\\/4tNoPwk9\",\"in_reply_to_user_id\":null,\"truncated\":false,\"id_str\":\"244907513106022401\",\"retweeted\":false,\"in_reply_to_status_id_str\":null,\"source\":\"<a href=\\\"http:\\/\\/twitterfeed.com\\\" rel=\\\"nofollow\\\">twitterfeed<\\/a>\",\"possibly_sensitive\":false,\"entities\":{\"hashtags\":[],\"urls\":[{\"indices\":[43,63],\"display_url\":\"Examiner.com\",\"expanded_url\":\"http:\\/\\/Examiner.com\",\"url\":\"http:\\/\\/t.co\\/Z5jtBJco\"},{\"indices\":[64,84],\"display_url\":\"bit.ly\\/RtN8jk\",\"expanded_url\":\"http:\\/\\/bit.ly\\/RtN8jk\",\"url\":\"http:\\/\\/t.co\\/4tNoPwk9\"}],\"user_mentions\":[]},\"in_reply_to_screen_name\":null,\"in_reply_to_status_id\":null,\"in_reply_to_user_id_str\":null,\"place\":null,\"contributors\":null,\"coordinates\":null,\"created_at\":\"Sun Sep 09 21:17:55 +0000 2012\",\"favorited\":false,\"possibly_sensitive_editable\":true,\"user\":{\"follow_request_sent\":null,\"contributors_enabled\":false,\"location\":\"London\",\"profile_sidebar_border_color\":\"EEEEEE\",\"profile_image_url_https\":\"https:\\/\\/si0.twimg.com\\/profile_images\\/1328342420\\/twitter-profile-pic_normal.png\",\"id_str\":\"278546677\",\"listed_count\":10,\"verified\":false,\"show_all_inline_media\":false,\"profile_use_background_image\":true,\"profile_image_url\":\"http:\\/\\/a0.twimg.com\\/profile_images\\/1328342420\\/twitter-profile-pic_normal.png\",\"description\":\"LooknBe.com - The social community for your look and style.\\r\\nAsk all your questions about your look, shopping dilemmas and get advice from experts and members.\",\"default_profile\":false,\"statuses_count\":27186,\"profile_text_color\":\"333333\",\"followers_count\":1963,\"lang\":\"fr\",\"profile_background_image_url\":\"http:\\/\\/a0.twimg.com\\/profile_background_images\\/241510545\\/twitter-bg-UK.png\",\"time_zone\":\"Greenland\",\"screen_name\":\"LooknBe_UK\",\"geo_enabled\":false,\"profile_link_color\":\"009999\",\"profile_background_image_url_https\":\"https:\\/\\/si0.twimg.com\\/profile_background_images\\/241510545\\/twitter-bg-UK.png\",\"created_at\":\"Thu Apr 07 13:56:14 +0000 2011\",\"protected\":false,\"default_profile_image\":false,\"following\":null,\"notifications\":null,\"friends_count\":2095,\"profile_background_color\":\"252525\",\"url\":\"http:\\/\\/www.looknbe.com\",\"name\":\"LooknBe_UK\",\"is_translator\":false,\"profile_background_tile\":false,\"favourites_count\":0,\"id\":278546677,\"utc_offset\":-10800,\"profile_sidebar_fill_color\":\"EFEFEF\"},\"retweet_count\":0,\"id\":244907513106022401,\"geo\":null}\n",
      "\n",
      "{\"text\":\"More Bad News for Obama ... http:\\/\\/t.co\\/8ANM08Vj\",\"in_reply_to_user_id\":null,\"truncated\":false,\"id_str\":\"244907513517051905\",\"retweeted\":false,\"in_reply_to_status_id_str\":null,\"source\":\"<a href=\\\"http:\\/\\/timely.is\\\" rel=\\\"nofollow\\\">Timely by Demandforce<\\/a>\",\"possibly_sensitive\":false,\"entities\":{\"hashtags\":[],\"urls\":[{\"indices\":[28,48],\"display_url\":\"awe.sm\\/m4Md3\",\"expanded_url\":\"http:\\/\\/awe.sm\\/m4Md3\",\"url\":\"http:\\/\\/t.co\\/8ANM08Vj\"}],\"user_mentions\":[]},\"in_reply_to_screen_name\":null,\"in_reply_to_status_id\":null,\"in_reply_to_user_id_str\":null,\"place\":null,\"contributors\":null,\"coordinates\":null,\"created_at\":\"Sun Sep 09 21:17:56 +0000 2012\",\"favorited\":false,\"possibly_sensitive_editable\":true,\"user\":{\"follow_request_sent\":null,\"contributors_enabled\":false,\"location\":\"Houston, TX\",\"profile_sidebar_border_color\":\"181A1E\",\"profile_image_url_https\":\"https:\\/\\/si0.twimg.com\\/profile_images\\/1164475683\\/eagle_6_normal.jpg\",\"id_str\":\"39977973\",\"listed_count\":10,\"verified\":false,\"show_all_inline_media\":false,\"profile_use_background_image\":true,\"profile_image_url\":\"http:\\/\\/a0.twimg.com\\/profile_images\\/1164475683\\/eagle_6_normal.jpg\",\"description\":\"Live, Laugh, Love, Produce. Be Authentic Smart & Healthy. Dancer. Networker. Jobs, Employment, Career Links; Improve Social & Interpersonal Skills; Dating Tips \",\"default_profile\":false,\"statuses_count\":3569,\"profile_text_color\":\"1CF910\",\"followers_count\":3769,\"lang\":\"en\",\"profile_background_image_url\":\"http:\\/\\/a0.twimg.com\\/profile_background_images\\/19442393\\/Money_Trend.jpg\",\"time_zone\":\"Central Time (US & Canada)\",\"screen_name\":\"topsponsor\",\"geo_enabled\":false,\"profile_link_color\":\"3ADCF8\",\"profile_background_image_url_https\":\"https:\\/\\/si0.twimg.com\\/profile_background_images\\/19442393\\/Money_Trend.jpg\",\"created_at\":\"Thu May 14 11:55:10 +0000 2009\",\"protected\":false,\"default_profile_image\":false,\"following\":null,\"notifications\":null,\"friends_count\":3776,\"profile_background_color\":\"1A1B1F\",\"url\":\"http:\\/\\/www.american-dream-network.com\\/texas-jobs.html\",\"name\":\"AmericanDreamNetwork\",\"is_translator\":false,\"profile_background_tile\":false,\"favourites_count\":4,\"id\":39977973,\"utc_offset\":-21600,\"profile_sidebar_fill_color\":\"19171C\"},\"retweet_count\":0,\"id\":244907513517051905,\"geo\":null}\n",
      "\n",
      "{\"text\":\"The Daily What http:\\/\\/t.co\\/S57uzv3a via @TheDailyWhat\",\"in_reply_to_user_id\":null,\"truncated\":false,\"id_str\":\"244907514053943298\",\"retweeted\":false,\"in_reply_to_status_id_str\":null,\"source\":\"<a href=\\\"http:\\/\\/twitter.com\\/tweetbutton\\\" rel=\\\"nofollow\\\">Tweet Button<\\/a>\",\"possibly_sensitive\":false,\"entities\":{\"hashtags\":[],\"urls\":[{\"indices\":[15,35],\"display_url\":\"thedailywhat.tumblr.com\\/post\\/310757660\\u2026\",\"expanded_url\":\"http:\\/\\/thedailywhat.tumblr.com\\/post\\/31075766014\\/plea-to-the-president-of-the-day-meet-john-boyer\",\"url\":\"http:\\/\\/t.co\\/S57uzv3a\"}],\"user_mentions\":[{\"indices\":[40,53],\"id_str\":\"17356086\",\"screen_name\":\"TheDailyWhat\",\"name\":\"Kelly Internets\",\"id\":17356086}]},\"in_reply_to_screen_name\":null,\"in_reply_to_status_id\":null,\"in_reply_to_user_id_str\":null,\"place\":null,\"contributors\":null,\"coordinates\":null,\"created_at\":\"Sun Sep 09 21:17:56 +0000 2012\",\"favorited\":false,\"possibly_sensitive_editable\":true,\"user\":{\"follow_request_sent\":null,\"contributors_enabled\":false,\"location\":\"\",\"profile_sidebar_border_color\":\"86A4A6\",\"profile_image_url_https\":\"https:\\/\\/si0.twimg.com\\/profile_images\\/2489526023\\/image_normal.jpg\",\"id_str\":\"338097832\",\"listed_count\":1,\"verified\":false,\"show_all_inline_media\":false,\"profile_use_background_image\":true,\"profile_image_url\":\"http:\\/\\/a0.twimg.com\\/profile_images\\/2489526023\\/image_normal.jpg\",\"description\":\"He must become greater, I must become less. John 3:30\\r\\nI'm learning.\",\"default_profile\":false,\"statuses_count\":5171,\"profile_text_color\":\"333333\",\"followers_count\":226,\"lang\":\"en\",\"profile_background_image_url\":\"http:\\/\\/a0.twimg.com\\/profile_background_images\\/535832976\\/Purple\",\"time_zone\":\"Eastern Time (US & Canada)\",\"screen_name\":\"Airr_N\",\"geo_enabled\":false,\"profile_link_color\":\"FF3300\",\"profile_background_image_url_https\":\"https:\\/\\/si0.twimg.com\\/profile_background_images\\/535832976\\/Purple\",\"created_at\":\"Tue Jul 19 02:34:35 +0000 2011\",\"protected\":false,\"default_profile_image\":false,\"following\":null,\"notifications\":null,\"friends_count\":105,\"profile_background_color\":\"709397\",\"url\":null,\"name\":\"Ferrd\",\"is_translator\":false,\"profile_background_tile\":false,\"favourites_count\":900,\"id\":338097832,\"utc_offset\":-18000,\"profile_sidebar_fill_color\":\"A0C5C7\"},\"retweet_count\":0,\"id\":244907514053943298,\"geo\":null}\n",
      "\n",
      "{\"retweeted_status\":{\"text\":\"Tomorrow: a shared piece by Rubin and Morris entitled: \\\"Romney's brilliant strategy of letting Obama take the lead\\\".\",\"in_reply_to_user_id\":null,\"truncated\":false,\"id_str\":\"244907385058115584\",\"retweeted\":false,\"in_reply_to_status_id_str\":null,\"source\":\"<a href=\\\"http:\\/\\/www.tweetdeck.com\\\" rel=\\\"nofollow\\\">TweetDeck<\\/a>\",\"entities\":{\"hashtags\":[],\"urls\":[],\"user_mentions\":[]},\"in_reply_to_screen_name\":null,\"in_reply_to_status_id\":null,\"in_reply_to_user_id_str\":null,\"place\":null,\"contributors\":null,\"coordinates\":null,\"created_at\":\"Sun Sep 09 21:17:25 +0000 2012\",\"favorited\":false,\"user\":{\"follow_request_sent\":null,\"contributors_enabled\":false,\"location\":\"\",\"profile_sidebar_border_color\":\"BDDCAD\",\"profile_image_url_https\":\"https:\\/\\/si0.twimg.com\\/profile_images\\/1812066290\\/frank_normal.gif\",\"id_str\":\"65257429\",\"listed_count\":68,\"verified\":false,\"show_all_inline_media\":false,\"profile_use_background_image\":true,\"profile_image_url\":\"http:\\/\\/a0.twimg.com\\/profile_images\\/1812066290\\/frank_normal.gif\",\"description\":\"Dutch expat, living in CO. Evil socialist pragmatist. Opinions are my own, not my employer's (whoever that may be).\",\"default_profile\":false,\"statuses_count\":8559,\"profile_text_color\":\"333333\",\"followers_count\":591,\"lang\":\"en\",\"profile_background_image_url\":\"http:\\/\\/a0.twimg.com\\/profile_background_images\\/30622404\\/George_Hendrik_Breitner_-_Gezicht_op_de_Dam_te_Amsterdam.jpg\",\"time_zone\":\"Mountain Time (US & Canada)\",\"screen_name\":\"fvdlfvdl\",\"geo_enabled\":false,\"profile_link_color\":\"0084B4\",\"profile_background_image_url_https\":\"https:\\/\\/si0.twimg.com\\/profile_background_images\\/30622404\\/George_Hendrik_Breitner_-_Gezicht_op_de_Dam_te_Amsterdam.jpg\",\"created_at\":\"Thu Aug 13 03:14:40 +0000 2009\",\"protected\":false,\"default_profile_image\":false,\"following\":null,\"notifications\":null,\"friends_count\":339,\"profile_background_color\":\"9AE4E8\",\"url\":\"http:\\/\\/www.expaticats.com\\/\",\"name\":\"Frank Vdl\",\"is_translator\":false,\"profile_background_tile\":false,\"favourites_count\":1,\"id\":65257429,\"utc_offset\":-25200,\"profile_sidebar_fill_color\":\"DDFFCC\"},\"retweet_count\":1,\"id\":244907385058115584,\"geo\":null},\"text\":\"RT @fvdlfvdl: Tomorrow: a shared piece by Rubin and Morris entitled: \\\"Romney's brilliant strategy of letting Obama take the lead\\\".\",\"in_reply_to_user_id\":null,\"truncated\":false,\"id_str\":\"244907513651277824\",\"retweeted\":false,\"in_reply_to_status_id_str\":null,\"source\":\"<a href=\\\"http:\\/\\/twitter.com\\/download\\/android\\\" rel=\\\"nofollow\\\">Twitter for Android<\\/a>\",\"entities\":{\"hashtags\":[],\"urls\":[],\"user_mentions\":[{\"indices\":[3,12],\"id_str\":\"65257429\",\"screen_name\":\"fvdlfvdl\",\"name\":\"Frank Vdl\",\"id\":65257429}]},\"in_reply_to_screen_name\":null,\"in_reply_to_status_id\":null,\"in_reply_to_user_id_str\":null,\"place\":null,\"contributors\":null,\"coordinates\":null,\"created_at\":\"Sun Sep 09 21:17:56 +0000 2012\",\"favorited\":false,\"user\":{\"follow_request_sent\":null,\"contributors_enabled\":false,\"location\":\"Ohio\",\"profile_sidebar_border_color\":\"C0DEED\",\"profile_image_url_https\":\"https:\\/\\/si0.twimg.com\\/profile_images\\/1360392388\\/myself2_normal.jpg\",\"id_str\":\"214206294\",\"listed_count\":57,\"verified\":false,\"show_all_inline_media\":false,\"profile_use_background_image\":true,\"profile_image_url\":\"http:\\/\\/a0.twimg.com\\/profile_images\\/1360392388\\/myself2_normal.jpg\",\"description\":\"Diabolical Liberal, Contributor to Bob Cesca's Awesome Blog, Tech Geek, Portrait Artist, Allergic to Bullshit\",\"default_profile\":true,\"statuses_count\":26477,\"profile_text_color\":\"333333\",\"followers_count\":1020,\"lang\":\"en\",\"profile_background_image_url\":\"http:\\/\\/a0.twimg.com\\/images\\/themes\\/theme1\\/bg.png\",\"time_zone\":\"Eastern Time (US & Canada)\",\"screen_name\":\"JM_Ashby\",\"geo_enabled\":false,\"profile_link_color\":\"0084B4\",\"profile_background_image_url_https\":\"https:\\/\\/si0.twimg.com\\/images\\/themes\\/theme1\\/bg.png\",\"created_at\":\"Wed Nov 10 20:55:37 +0000 2010\",\"protected\":false,\"default_profile_image\":false,\"following\":null,\"notifications\":null,\"friends_count\":706,\"profile_background_color\":\"C0DEED\",\"url\":\"http:\\/\\/www.bobcesca.com\",\"name\":\"Jordan Ashby\",\"is_translator\":false,\"profile_background_tile\":false,\"favourites_count\":834,\"id\":214206294,\"utc_offset\":-18000,\"profile_sidebar_fill_color\":\"DDEEF6\"},\"retweet_count\":1,\"id\":244907513651277824,\"geo\":null}\n",
      "\n",
      "{\"possibly_sensitive_editable\":true,\"retweet_count\":0,\"text\":\"Black Wall Street District USA - National Business Development Network http:\\/\\/t.co\\/Vau51AsY\",\"in_reply_to_user_id\":null,\"truncated\":false,\"id_str\":\"244907514804703232\",\"source\":\"<a href=\\\"http:\\/\\/www.facebook.com\\/twitter\\\" rel=\\\"nofollow\\\">Facebook<\\/a>\",\"entities\":{\"user_mentions\":[],\"hashtags\":[],\"urls\":[{\"indices\":[71,91],\"display_url\":\"fb.me\\/1hLWoU9JB\",\"url\":\"http:\\/\\/t.co\\/Vau51AsY\",\"expanded_url\":\"http:\\/\\/fb.me\\/1hLWoU9JB\"}]},\"retweeted\":false,\"in_reply_to_status_id_str\":null,\"place\":null,\"possibly_sensitive\":false,\"coordinates\":null,\"in_reply_to_screen_name\":null,\"in_reply_to_status_id\":null,\"created_at\":\"Sun Sep 09 21:17:56 +0000 2012\",\"in_reply_to_user_id_str\":null,\"contributors\":null,\"user\":{\"is_translator\":false,\"profile_background_tile\":false,\"favourites_count\":0,\"location\":\"San Diego\",\"profile_sidebar_fill_color\":\"DDEEF6\",\"follow_request_sent\":null,\"contributors_enabled\":false,\"profile_sidebar_border_color\":\"C0DEED\",\"profile_image_url_https\":\"https:\\/\\/si0.twimg.com\\/profile_images\\/802724432\\/bryce_and_diana_normal.jpg\",\"description\":\"\",\"id_str\":\"118138541\",\"listed_count\":0,\"verified\":false,\"show_all_inline_media\":false,\"lang\":\"en\",\"profile_use_background_image\":true,\"profile_image_url\":\"http:\\/\\/a0.twimg.com\\/profile_images\\/802724432\\/bryce_and_diana_normal.jpg\",\"screen_name\":\"bryceanddiana\",\"default_profile\":true,\"statuses_count\":1537,\"profile_text_color\":\"333333\",\"followers_count\":65,\"profile_background_image_url\":\"http:\\/\\/a0.twimg.com\\/images\\/themes\\/theme1\\/bg.png\",\"time_zone\":\"Pacific Time (US & Canada)\",\"created_at\":\"Sat Feb 27 18:33:54 +0000 2010\",\"protected\":false,\"following\":null,\"geo_enabled\":true,\"notifications\":null,\"profile_link_color\":\"0084B4\",\"url\":\"http:\\/\\/www.whatablessing.net\",\"name\":\"Bryce and Diana\",\"profile_background_image_url_https\":\"https:\\/\\/si0.twimg.com\\/images\\/themes\\/theme1\\/bg.png\",\"id\":118138541,\"default_profile_image\":false,\"utc_offset\":-28800,\"friends_count\":104,\"profile_background_color\":\"C0DEED\"},\"id\":244907514804703232,\"geo\":null,\"favorited\":false}\n",
      "\n"
     ]
    }
   ],
   "source": [
    "# print url.readline()\n",
    "gzipfile = gzip.GzipFile(fileobj = StringIO(url.read()))\n",
    "i = 0\n",
    "for line in gzipfile:\n",
    "    jsonStr = line\n",
    "    print line\n",
    "    i += 1\n",
    "    if i > 10:\n",
    "        break"
   ]
  },
  {
   "cell_type": "code",
   "execution_count": 32,
   "metadata": {
    "collapsed": false
   },
   "outputs": [
    {
     "name": "stdout",
     "output_type": "stream",
     "text": [
      "{\"text\":\"Obama vies for health care edge in Florida - http:\\/\\/t.co\\/OcISvreb http:\\/\\/t.co\\/FsJ7xgGW #florida\",\"in_reply_to_user_id\":null,\"truncated\":false,\"id_str\":\"244907511377965056\",\"retweeted\":false,\"in_reply_to_status_id_str\":null,\"source\":\"twitterfeed\",\"possibly_sensitive\":false,\"entities\":{\"hashtags\":[{\"text\":\"florida\",\"indices\":[87,95]}],\"urls\":[{\"indices\":[45,65],\"display_url\":\"STLtoday.com\",\"expanded_url\":\"http:\\/\\/STLtoday.com\",\"url\":\"http:\\/\\/t.co\\/OcISvreb\"},{\"indices\":[66,86],\"display_url\":\"bit.ly\\/Tzhmly\",\"expanded_url\":\"http:\\/\\/bit.ly\\/Tzhmly\",\"url\":\"http:\\/\\/t.co\\/FsJ7xgGW\"}],\"user_mentions\":[]},\"in_reply_to_screen_name\":null,\"in_reply_to_status_id\":null,\"in_reply_to_user_id_str\":null,\"place\":null,\"contributors\":null,\"coordinates\":null,\"created_at\":\"Sun Sep 09 21:17:55 +0000 2012\",\"favorited\":false,\"possibly_sensitive_editable\":true,\"user\":{\"follow_request_sent\":null,\"contributors_enabled\":false,\"location\":\"\",\"profile_sidebar_border_color\":\"C0DEED\",\"profile_image_url_https\":\"https:\\/\\/si0.twimg.com\\/profile_images\\/1166515929\\/florida_normal.jpg\",\"id_str\":\"215440345\",\"listed_count\":116,\"verified\":false,\"show_all_inline_media\":false,\"profile_use_background_image\":true,\"profile_image_url\":\"http:\\/\\/a0.twimg.com\\/profile_images\\/1166515929\\/florida_normal.jpg\",\"description\":\"\",\"default_profile\":true,\"statuses_count\":78777,\"profile_text_color\":\"333333\",\"followers_count\":3214,\"lang\":\"en\",\"profile_background_image_url\":\"http:\\/\\/a0.twimg.com\\/images\\/themes\\/theme1\\/bg.png\",\"time_zone\":\"Central Time (US & Canada)\",\"screen_name\":\"FLnewswire\",\"geo_enabled\":false,\"profile_link_color\":\"0084B4\",\"profile_background_image_url_https\":\"https:\\/\\/si0.twimg.com\\/images\\/themes\\/theme1\\/bg.png\",\"created_at\":\"Sat Nov 13 23:19:24 +0000 2010\",\"protected\":false,\"default_profile_image\":false,\"following\":null,\"notifications\":null,\"friends_count\":2258,\"profile_background_color\":\"C0DEED\",\"url\":null,\"name\":\"Florida News\",\"is_translator\":false,\"profile_background_tile\":false,\"favourites_count\":0,\"id\":215440345,\"utc_offset\":-21600,\"profile_sidebar_fill_color\":\"DDEEF6\"},\"retweet_count\":0,\"id\":244907511377965056,\"geo\":null}\n"
     ]
    },
    {
     "data": {
      "text/plain": [
       "u'Obama vies for health care edge in Florida - http://t.co/OcISvreb http://t.co/FsJ7xgGW #florida'"
      ]
     },
     "execution_count": 32,
     "metadata": {},
     "output_type": "execute_result"
    }
   ],
   "source": [
    "\n",
    "jsonStr = '{\"text\":\"Obama vies for health care edge in Florida - http:\\/\\/t.co\\/OcISvreb http:\\/\\/t.co\\/FsJ7xgGW #florida\",\"in_reply_to_user_id\":null,\"truncated\":false,\"id_str\":\"244907511377965056\",\"retweeted\":false,\"in_reply_to_status_id_str\":null,\"source\":\"<a href=\\\"http:\\/\\/twitterfeed.com\\\" rel=\\\"nofollow\\\">twitterfeed<\\/a>\",\"possibly_sensitive\":false,\"entities\":{\"hashtags\":[{\"text\":\"florida\",\"indices\":[87,95]}],\"urls\":[{\"indices\":[45,65],\"display_url\":\"STLtoday.com\",\"expanded_url\":\"http:\\/\\/STLtoday.com\",\"url\":\"http:\\/\\/t.co\\/OcISvreb\"},{\"indices\":[66,86],\"display_url\":\"bit.ly\\/Tzhmly\",\"expanded_url\":\"http:\\/\\/bit.ly\\/Tzhmly\",\"url\":\"http:\\/\\/t.co\\/FsJ7xgGW\"}],\"user_mentions\":[]},\"in_reply_to_screen_name\":null,\"in_reply_to_status_id\":null,\"in_reply_to_user_id_str\":null,\"place\":null,\"contributors\":null,\"coordinates\":null,\"created_at\":\"Sun Sep 09 21:17:55 +0000 2012\",\"favorited\":false,\"possibly_sensitive_editable\":true,\"user\":{\"follow_request_sent\":null,\"contributors_enabled\":false,\"location\":\"\",\"profile_sidebar_border_color\":\"C0DEED\",\"profile_image_url_https\":\"https:\\/\\/si0.twimg.com\\/profile_images\\/1166515929\\/florida_normal.jpg\",\"id_str\":\"215440345\",\"listed_count\":116,\"verified\":false,\"show_all_inline_media\":false,\"profile_use_background_image\":true,\"profile_image_url\":\"http:\\/\\/a0.twimg.com\\/profile_images\\/1166515929\\/florida_normal.jpg\",\"description\":\"\",\"default_profile\":true,\"statuses_count\":78777,\"profile_text_color\":\"333333\",\"followers_count\":3214,\"lang\":\"en\",\"profile_background_image_url\":\"http:\\/\\/a0.twimg.com\\/images\\/themes\\/theme1\\/bg.png\",\"time_zone\":\"Central Time (US & Canada)\",\"screen_name\":\"FLnewswire\",\"geo_enabled\":false,\"profile_link_color\":\"0084B4\",\"profile_background_image_url_https\":\"https:\\/\\/si0.twimg.com\\/images\\/themes\\/theme1\\/bg.png\",\"created_at\":\"Sat Nov 13 23:19:24 +0000 2010\",\"protected\":false,\"default_profile_image\":false,\"following\":null,\"notifications\":null,\"friends_count\":2258,\"profile_background_color\":\"C0DEED\",\"url\":null,\"name\":\"Florida News\",\"is_translator\":false,\"profile_background_tile\":false,\"favourites_count\":0,\"id\":215440345,\"utc_offset\":-21600,\"profile_sidebar_fill_color\":\"DDEEF6\"},\"retweet_count\":0,\"id\":244907511377965056,\"geo\":null}'\n",
    "import re\n",
    "p=re.compile(r'\\<.+?\\>', re.DOTALL)\n",
    "jsonStrClean = re.sub(p, '', jsonStr)\n",
    "print jsonStrClean\n",
    "\n",
    "import json\n",
    "jsonDict = json.loads(jsonStrClean)\n",
    "jsonDict['text']"
   ]
  },
  {
   "cell_type": "code",
   "execution_count": 36,
   "metadata": {
    "collapsed": false
   },
   "outputs": [
    {
     "ename": "TypeError",
     "evalue": "expected string or buffer",
     "output_type": "error",
     "traceback": [
      "\u001b[0;31m---------------------------------------------------------------------------\u001b[0m",
      "\u001b[0;31mTypeError\u001b[0m                                 Traceback (most recent call last)",
      "\u001b[0;32m<ipython-input-36-6556d2049246>\u001b[0m in \u001b[0;36m<module>\u001b[0;34m()\u001b[0m\n\u001b[1;32m     11\u001b[0m \u001b[0;31m## Bigrams\u001b[0m\u001b[0;34m\u001b[0m\u001b[0;34m\u001b[0m\u001b[0m\n\u001b[1;32m     12\u001b[0m \u001b[0mtext\u001b[0m \u001b[0;34m=\u001b[0m \u001b[0;34m[\u001b[0m\u001b[0;34m\"I do not like green eggs and ham, I do not like them Sam I am!\"\u001b[0m\u001b[0;34m,\u001b[0m \u001b[0;34m\"tokens = nltk.wordpunct_tokenize(text)\"\u001b[0m\u001b[0;34m]\u001b[0m\u001b[0;34m\u001b[0m\u001b[0m\n\u001b[0;32m---> 13\u001b[0;31m \u001b[0mtokens\u001b[0m \u001b[0;34m=\u001b[0m \u001b[0mnltk\u001b[0m\u001b[0;34m.\u001b[0m\u001b[0mwordpunct_tokenize\u001b[0m\u001b[0;34m(\u001b[0m\u001b[0mtext\u001b[0m\u001b[0;34m)\u001b[0m\u001b[0;34m\u001b[0m\u001b[0m\n\u001b[0m\u001b[1;32m     14\u001b[0m \u001b[0mfinder\u001b[0m \u001b[0;34m=\u001b[0m \u001b[0mBigramCollocationFinder\u001b[0m\u001b[0;34m.\u001b[0m\u001b[0mfrom_words\u001b[0m\u001b[0;34m(\u001b[0m\u001b[0mtokens\u001b[0m\u001b[0;34m)\u001b[0m\u001b[0;34m\u001b[0m\u001b[0m\n\u001b[1;32m     15\u001b[0m \u001b[0;31m# only bigrams that appear 3+ times\u001b[0m\u001b[0;34m\u001b[0m\u001b[0;34m\u001b[0m\u001b[0m\n",
      "\u001b[0;32m/Library/Python/2.7/site-packages/nltk/tokenize/regexp.pyc\u001b[0m in \u001b[0;36mtokenize\u001b[0;34m(self, text)\u001b[0m\n\u001b[1;32m    132\u001b[0m         \u001b[0;31m# If our regexp matches tokens, use re.findall:\u001b[0m\u001b[0;34m\u001b[0m\u001b[0;34m\u001b[0m\u001b[0m\n\u001b[1;32m    133\u001b[0m         \u001b[0;32melse\u001b[0m\u001b[0;34m:\u001b[0m\u001b[0;34m\u001b[0m\u001b[0m\n\u001b[0;32m--> 134\u001b[0;31m             \u001b[0;32mreturn\u001b[0m \u001b[0mself\u001b[0m\u001b[0;34m.\u001b[0m\u001b[0m_regexp\u001b[0m\u001b[0;34m.\u001b[0m\u001b[0mfindall\u001b[0m\u001b[0;34m(\u001b[0m\u001b[0mtext\u001b[0m\u001b[0;34m)\u001b[0m\u001b[0;34m\u001b[0m\u001b[0m\n\u001b[0m\u001b[1;32m    135\u001b[0m \u001b[0;34m\u001b[0m\u001b[0m\n\u001b[1;32m    136\u001b[0m     \u001b[0;32mdef\u001b[0m \u001b[0mspan_tokenize\u001b[0m\u001b[0;34m(\u001b[0m\u001b[0mself\u001b[0m\u001b[0;34m,\u001b[0m \u001b[0mtext\u001b[0m\u001b[0;34m)\u001b[0m\u001b[0;34m:\u001b[0m\u001b[0;34m\u001b[0m\u001b[0m\n",
      "\u001b[0;31mTypeError\u001b[0m: expected string or buffer"
     ]
    }
   ],
   "source": [
    "import nltk\n",
    "from nltk.collocations import *\n",
    "bigram_measures = nltk.collocations.BigramAssocMeasures()\n",
    "trigram_measures = nltk.collocations.TrigramAssocMeasures()\n",
    "\n",
    "# Ngrams with 'creature' as a member\n",
    "# make this as for pos words or neg words\n",
    "def pos_filter (*w):\n",
    "    shouldFilter = True\n",
    "    for pos_word in pos_words:\n",
    "        shouldFilter = shouldFilter and (pos_word not in w)\n",
    "    return shouldFilter\n",
    "\n",
    "\n",
    "def neg_filter (*w):\n",
    "    shouldFilter = True\n",
    "    for neg_word in neg_words:\n",
    "        shouldFilter = shouldFilter and (neg_word not in w)\n",
    "    return shouldFilter\n",
    "\n",
    "\n",
    "## Bigrams\n",
    "text = [\"I do not like green eggs and ham, I do not like them Sam I am!\", \"tokens = nltk.wordpunct_tokenize(text)\"]\n",
    "tokens = nltk.wordpunct_tokenize(text)\n",
    "finder = BigramCollocationFinder.from_words(tokens)\n",
    "# only bigrams that appear 3+ times\n",
    "finder.apply_freq_filter(3)\n",
    "# only bigrams that contain 'creature'\n",
    "finder.apply_ngram_filter(creature_filter)\n",
    "# return the 10 n-grams with the highest PMI\n",
    "print finder.nbest(bigram_measures.likelihood_ratio, 10)\n",
    "\n",
    "'''\n",
    "## Trigrams\n",
    "finder = TrigramCollocationFinder.from_words(\n",
    "   nltk.corpus.genesis.words('english-web.txt'))\n",
    "# only trigrams that appear 3+ times\n",
    "finder.apply_freq_filter(3)\n",
    "# only trigrams that contain 'creature'\n",
    "finder.apply_ngram_filter(creature_filter)\n",
    "# return the 10 n-grams with the highest PMI\n",
    "print finder.nbest(trigram_measures.likelihood_ratio, 10)\n",
    "'''"
   ]
  },
  {
   "cell_type": "code",
   "execution_count": 41,
   "metadata": {
    "collapsed": false
   },
   "outputs": [
    {
     "data": {
      "text/plain": [
       "['Obama', 'vies', 'for', 'health', 'care', 'edge', 'in', 'Florida,', '2016']"
      ]
     },
     "execution_count": 41,
     "metadata": {},
     "output_type": "execute_result"
    }
   ],
   "source": [
    "'Obama vies for health care edge in Florida, 2016'.split()"
   ]
  },
  {
   "cell_type": "code",
   "execution_count": 37,
   "metadata": {
    "collapsed": false
   },
   "outputs": [
    {
     "name": "stdout",
     "output_type": "stream",
     "text": [
      "<class 'nltk.corpus.reader.plaintext.PlaintextCorpusReader'>\n",
      "<class 'nltk.corpus.reader.util.StreamBackedCorpusView'>\n"
     ]
    }
   ],
   "source": [
    "import nltk\n",
    "print type(nltk.corpus.genesis)\n",
    "print type(nltk.corpus.genesis.words('english-web.txt'))"
   ]
  },
  {
   "cell_type": "code",
   "execution_count": 4,
   "metadata": {
    "collapsed": false
   },
   "outputs": [
    {
     "data": {
      "text/plain": [
       "unicode"
      ]
     },
     "execution_count": 4,
     "metadata": {},
     "output_type": "execute_result"
    }
   ],
   "source": [
    "from nltk.corpus import brown\n",
    "type(brown.raw())"
   ]
  },
  {
   "cell_type": "code",
   "execution_count": 47,
   "metadata": {
    "collapsed": false
   },
   "outputs": [
    {
     "data": {
      "text/plain": [
       "1"
      ]
     },
     "execution_count": 47,
     "metadata": {},
     "output_type": "execute_result"
    }
   ],
   "source": []
  },
  {
   "cell_type": "code",
   "execution_count": null,
   "metadata": {
    "collapsed": true
   },
   "outputs": [],
   "source": []
  },
  {
   "cell_type": "code",
   "execution_count": null,
   "metadata": {
    "collapsed": true
   },
   "outputs": [],
   "source": []
  },
  {
   "cell_type": "code",
   "execution_count": null,
   "metadata": {
    "collapsed": true
   },
   "outputs": [],
   "source": []
  }
 ],
 "metadata": {
  "kernelspec": {
   "display_name": "Python 2",
   "language": "python",
   "name": "python2"
  },
  "language_info": {
   "codemirror_mode": {
    "name": "ipython",
    "version": 2
   },
   "file_extension": ".py",
   "mimetype": "text/x-python",
   "name": "python",
   "nbconvert_exporter": "python",
   "pygments_lexer": "ipython2",
   "version": "2.7.10"
  }
 },
 "nbformat": 4,
 "nbformat_minor": 1
}
